{
 "cells": [
  {
   "cell_type": "code",
   "execution_count": 2,
   "metadata": {},
   "outputs": [],
   "source": [
    "# get nearest cosine neighbors for major topic words via BERT pre-trained embeddings in order to alter weights for model\n",
    "\n",
    "crimewords = [\n",
    "\"crimes\",\n",
    "\"criminal\",\n",
    "\"murder\",\n",
    "\"criminals\",\n",
    "\"police\",\n",
    "\"street\",\n",
    "\"prison\",\n",
    "\"mystery\",\n",
    "\"law\",\n",
    "\"power\",\n",
    "\"death\",\n",
    "\"action\",\n",
    "\"security\",\n",
    "\"violence\",\n",
    "\"people\",\n",
    "]\n",
    "\n",
    "businesswords = [\n",
    "\"company\",\n",
    "\"work\",\n",
    "\"businesses\",\n",
    "\"life\",\n",
    "\"service\",\n",
    "\"first\",\n",
    "\"trade\",\n",
    "\"commercial\",\n",
    "\"companies\",\n",
    "\"organizations\",\n",
    "\"businessman\",\n",
    "\"enterprises\",\n",
    "\"industries\",\n",
    "\"economic\",\n",
    "\"industry\"\n",
    "]\n",
    "\n",
    "technologywords = [\n",
    "\"technologies\",\n",
    "\"tech\",\n",
    "\"technological\",\n",
    "\"science\",\n",
    "\"technical\",\n",
    "\"design\",\n",
    "\"equipment\",\n",
    "\"culture\",\n",
    "\"research\",\n",
    "\"software\",\n",
    "\"engineering\",\n",
    "\"power\",\n",
    "\"system\",\n",
    "\"development\",\n",
    "\"computer\"\n",
    "]\n",
    "\n",
    "politicswords = [\n",
    "\"political\",\n",
    "\"politician\",\n",
    "\"politicians\",\n",
    "\"politically\",\n",
    "\"government\",\n",
    "\"policy\",\n",
    "\"democracy\",\n",
    "\"parliament\",\n",
    "\"elections\",\n",
    "\"issues\",\n",
    "\"economics\",\n",
    "\"power\",\n",
    "\"election\",\n",
    "'democratic',\n",
    "'affairs',\n",
    "\"campaign\",\n",
    "\"strategy\"\n",
    "]"
   ]
  },
  {
   "cell_type": "code",
   "execution_count": 3,
   "metadata": {},
   "outputs": [],
   "source": [
    "with open(\"/users/rohan/news-classification/data/BERT/bert-base-uncased.txt\", encoding='utf-8') as file:\n",
    "    all_words = [index.rstrip() for index in file.readlines()]"
   ]
  },
  {
   "cell_type": "code",
   "execution_count": 4,
   "metadata": {},
   "outputs": [],
   "source": [
    "crimeindices = []\n",
    "for word in crimewords:\n",
    "    crimeindices.append(all_words.index(word))\n",
    "    \n",
    "businessindices = []\n",
    "for word in businesswords:\n",
    "    businessindices.append(all_words.index(word))\n",
    "    \n",
    "technologyindices = []\n",
    "for word in technologywords:\n",
    "    technologyindices.append(all_words.index(word))\n",
    "    \n",
    "politicsindices = []\n",
    "for word in politicswords:\n",
    "    politicsindices.append(all_words.index(word))"
   ]
  },
  {
   "cell_type": "code",
   "execution_count": 19,
   "metadata": {},
   "outputs": [
    {
     "data": {
      "text/plain": [
       "[2194,\n",
       " 2147,\n",
       " 5661,\n",
       " 2166,\n",
       " 2326,\n",
       " 2034,\n",
       " 3119,\n",
       " 3293,\n",
       " 3316,\n",
       " 4411,\n",
       " 6883,\n",
       " 9926,\n",
       " 6088,\n",
       " 3171,\n",
       " 3068]"
      ]
     },
     "execution_count": 19,
     "metadata": {},
     "output_type": "execute_result"
    }
   ],
   "source": [
    "businessindices"
   ]
  },
  {
   "cell_type": "code",
   "execution_count": null,
   "metadata": {},
   "outputs": [],
   "source": []
  }
 ],
 "metadata": {
  "kernelspec": {
   "display_name": "Python 3",
   "language": "python",
   "name": "python3"
  },
  "language_info": {
   "codemirror_mode": {
    "name": "ipython",
    "version": 3
   },
   "file_extension": ".py",
   "mimetype": "text/x-python",
   "name": "python",
   "nbconvert_exporter": "python",
   "pygments_lexer": "ipython3",
   "version": "3.8.3"
  }
 },
 "nbformat": 4,
 "nbformat_minor": 4
}
